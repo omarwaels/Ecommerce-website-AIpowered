{
 "cells": [
  {
   "cell_type": "code",
   "execution_count": null,
   "id": "5d6967e9",
   "metadata": {},
   "outputs": [],
   "source": [
    "import sys\n",
    "import os\n",
    "import scrapbook as sb\n",
    "import pandas as pd\n",
    "import numpy as np\n",
    "import tensorflow as tf\n",
    "tf.get_logger().setLevel('ERROR') # only show error messages\n",
    "\n",
    "from recommenders.utils.timer import Timer\n",
    "from recommenders.models.deeprec.models.graphrec.lightgcn import LightGCN\n",
    "from recommenders.models.deeprec.DataModel.ImplicitCF import ImplicitCF\n",
    "from recommenders.datasets import movielens\n",
    "from recommenders.datasets.python_splitters import python_stratified_split\n",
    "from recommenders.evaluation.python_evaluation import map_at_k, ndcg_at_k, precision_at_k, recall_at_k , rmse , mae\n",
    "from recommenders.utils.constants import SEED as DEFAULT_SEED\n",
    "from recommenders.models.deeprec.deeprec_utils import prepare_hparams\n",
    "from sklearn.model_selection import train_test_split\n",
    "#from recommenders.datasets.amazon_reviews import data_preprocessing\n",
    "#from sklearn.preprocessing import LabelEncoder\n",
    "\n",
    "print(\"System version: {}\".format(sys.version))\n",
    "print(\"Pandas version: {}\".format(pd.__version__))\n",
    "print(\"Tensorflow version: {}\".format(tf.__version__))"
   ]
  },
  {
   "cell_type": "code",
   "execution_count": null,
   "id": "9cd45196",
   "metadata": {},
   "outputs": [],
   "source": [
    "# top k items to recommend\n",
    "TOP_K = 20\n",
    "#user_vocab = r'C:\\Users\\Abdo\\Desktop\\lightgcn\\user_vocab.pkl' # the map file of user to id\n",
    "#item_vocab = r'C:\\Users\\Abdo\\Desktop\\lightgcn\\item_vocab.pkl' # the map file of item to id\n",
    "\n",
    "# Select MovieLens data size: 100k, 1m, 10m, or 20m\n",
    "#MOVIELENS_DATA_SIZE = '100k'\n",
    "\n",
    "# Model parameters\n",
    "EPOCHS = 10\n",
    "BATCH_SIZE = 1024\n",
    "\n",
    "SEED = DEFAULT_SEED  # Set None for non-deterministic results\n",
    "\n",
    "yaml_file = r'C:\\Users\\Abdo\\Desktop\\lightgcn.yaml'\n",
    "user_file = r'C:\\Users\\Abdo\\Desktop\\lightgcn\\user_embeddings.csv'\n",
    "item_file = r'C:\\Users\\Abdo\\Desktop\\lightgcn\\item_embeddings.csv'\n",
    "\n"
   ]
  },
  {
   "cell_type": "code",
   "execution_count": null,
   "id": "fa3c4da1",
   "metadata": {},
   "outputs": [],
   "source": [
    "#df = movielens.load_pandas_df(size=MOVIELENS_DATA_SIZE)\n",
    "df = pd.read_csv(r\"C:\\Users\\Abdo\\Desktop\\both3.csv\")\n",
    "df.head()"
   ]
  },
  {
   "cell_type": "code",
   "execution_count": null,
   "id": "66e43fb5",
   "metadata": {},
   "outputs": [],
   "source": [
    "#train, test = python_stratified_split(df, ratio=0.8 , )\n",
    "train , test = train_test_split(df , test_size=0.2 , random_state=42 , shuffle=True)"
   ]
  },
  {
   "cell_type": "code",
   "execution_count": null,
   "id": "874cd1fd",
   "metadata": {},
   "outputs": [],
   "source": [
    "\n",
    "data = ImplicitCF(train=train, test=test, seed=SEED)"
   ]
  },
  {
   "cell_type": "code",
   "execution_count": null,
   "id": "29205b85",
   "metadata": {},
   "outputs": [],
   "source": [
    "hparams = prepare_hparams(yaml_file ,\n",
    "                          n_layers=3,\n",
    "                          batch_size=BATCH_SIZE,\n",
    "                          epochs=EPOCHS,\n",
    "                          learning_rate=0.005,\n",
    "                          eval_epoch=1,\n",
    "                          top_k=TOP_K,\n",
    "                          embed_size= 64,\n",
    "                          #user_vocab=user_vocab,\n",
    "                          #item_vocab=item_vocab\n",
    "                         )"
   ]
  },
  {
   "cell_type": "code",
   "execution_count": null,
   "id": "e729f690",
   "metadata": {},
   "outputs": [],
   "source": [
    "model = LightGCN(hparams, data, seed=SEED)"
   ]
  },
  {
   "cell_type": "code",
   "execution_count": null,
   "id": "14edea22",
   "metadata": {},
   "outputs": [],
   "source": [
    "with Timer() as train_time:\n",
    "    model.fit()\n",
    "\n",
    "print(\"Took {} seconds for training.\".format(train_time.interval))"
   ]
  },
  {
   "cell_type": "code",
   "execution_count": null,
   "id": "7ad75463",
   "metadata": {},
   "outputs": [],
   "source": [
    "topk_scores = model.recommend_k_items(test, top_k=TOP_K, remove_seen=True ,sort_top_k=True )\n",
    "topk_scores"
   ]
  },
  {
   "cell_type": "code",
   "execution_count": null,
   "id": "cac5717b",
   "metadata": {},
   "outputs": [],
   "source": [
    "eval_map = map_at_k(test, topk_scores, k=TOP_K)\n",
    "eval_ndcg = ndcg_at_k(test, topk_scores, k=TOP_K)\n",
    "eval_precision = precision_at_k(test, topk_scores, k=TOP_K)\n",
    "eval_recall = recall_at_k(test, topk_scores, k=TOP_K )\n",
    "eval_rmse = rmse(test ,topk_scores )\n",
    "eval_mae = mae(test ,topk_scores )\n",
    "print(#\"MAP:\\t%f\" % eval_map,\n",
    "      \"NDCG:\\t%f\" % eval_ndcg,\n",
    "      #\"Precision@K:\\t%f\" % eval_precision,\n",
    "      \"Recall@K:\\t%f\" % eval_recall,\n",
    "     # \"rmse:\\t%f\" % eval_rmse,\n",
    "      #\"mae:\\t%f\" % eval_mae,\n",
    "      sep='\\n')"
   ]
  },
  {
   "cell_type": "code",
   "execution_count": null,
   "id": "445a9954",
   "metadata": {},
   "outputs": [],
   "source": [
    "# Record results with papermill for tests\n",
    "sb.glue(\"map\", eval_map)\n",
    "sb.glue(\"ndcg\", eval_ndcg)\n",
    "sb.glue(\"precision\", eval_precision)\n",
    "sb.glue(\"recall\", eval_recall)"
   ]
  },
  {
   "cell_type": "code",
   "execution_count": null,
   "id": "40c255ab",
   "metadata": {},
   "outputs": [],
   "source": [
    "model.infer_embedding(user_file, item_file)"
   ]
  },
  {
   "cell_type": "code",
   "execution_count": null,
   "id": "113517a9",
   "metadata": {},
   "outputs": [],
   "source": [
    "model.recommend_k_items(test[test['userID']=='A2WA0LFIGKO34K'],top_k=15 )"
   ]
  },
  {
   "cell_type": "markdown",
   "id": "d5bf86a6",
   "metadata": {},
   "source": [
    "# bert4rec model"
   ]
  },
  {
   "cell_type": "code",
   "execution_count": null,
   "id": "f91ab8f2",
   "metadata": {},
   "outputs": [],
   "source": [
    "from recbole.model.sequential_recommender import BERT4Rec \n",
    "import pandas as pd\n",
    "from recbole.evaluator.metrics import RMSE , MAE , Hit , NDCG , Recall , MRR\n",
    "import logging\n",
    "from logging import getLogger\n",
    "from recbole.config import Config\n",
    "from recbole.data import create_dataset , data_preparation\n",
    "from recbole.trainer import Trainer\n",
    "from recbole.utils import init_seed, init_logger\n",
    "import numpy as np\n",
    "import torch\n",
    "from collections import defaultdict\n",
    "from recbole.evaluator.metrics import Hit , NDCG , Recall\n",
    "from recbole.quick_start import run_recbole , load_data_and_model"
   ]
  },
  {
   "cell_type": "code",
   "execution_count": null,
   "id": "3d05fb70",
   "metadata": {},
   "outputs": [],
   "source": [
    "df = pd.read_csv(r\"C:\\Users\\Abdo\\Desktop\\both3.csv\")\n",
    "df = df.sort_values(by=['timestamp'])"
   ]
  },
  {
   "cell_type": "code",
   "execution_count": null,
   "id": "7575cc23",
   "metadata": {},
   "outputs": [],
   "source": [
    "df1 = df.rename(columns={'userID': 'userID:token', 'itemID': 'itemID:token', 'rating': 'rating:token' ,'timestamp': 'timestamp:float'})"
   ]
  },
  {
   "cell_type": "code",
   "execution_count": null,
   "id": "05c6787d",
   "metadata": {},
   "outputs": [],
   "source": [
    "df1.to_csv(r'C:\\Users\\Abdo\\Desktop\\recbox_data\\recbox_data.inter', index=False, sep='\\t')"
   ]
  },
  {
   "cell_type": "code",
   "execution_count": null,
   "id": "0a2c6be9",
   "metadata": {},
   "outputs": [],
   "source": [
    "parameter_dict = {\n",
    "    'data_path': r'C:\\Users\\Abdo\\Desktop',\n",
    "    'USER_ID_FIELD': 'userID',\n",
    "    'ITEM_ID_FIELD': 'itemID',\n",
    "    'TIME_FIELD': 'timestamp',\n",
    "    'user_inter_num_interval': \"[2,100000]\",\n",
    "    'item_inter_num_interval': \"[1,100000]\",\n",
    "    'load_col': {'inter': ['userID', 'itemID' , 'rating', 'timestamp']},\n",
    "    'unused_col':{'inter': ['rating']},\n",
    "    'metrics': ['Recall','NDCG','Hit'],\n",
    "    'topk'   : [1,5,10,20],\n",
    "    'train_neg_sample_args':None,\n",
    "    'seed':42,\n",
    "    'train_batch_size': 1024,\n",
    "    'eval_step': 1 ,                    # (int) The number of training epochs before an evaluation on the valid dataset.\n",
    "    'n_layers': 2 ,                     # (int) The number of transformer layers in transformer encoder.\n",
    "    'n_heads': 2  ,                    # (int) The number of attention heads for multi-head attention layer.\n",
    "    'hidden_size': 64 ,                 # (int) The number of features in the hidden state.\n",
    "    'inner_size': 256  ,               # (int) The inner hidden size in feed-forward layer.\n",
    "    'hidden_dropout_prob': 0.2 ,        # (float) The probability of an element to be zeroed.\n",
    "    'attn_dropout_prob': 0.2 ,          # (float) The probability of an attention score to be zeroed.\n",
    "    'hidden_act': 'gelu' ,             # (str) The activation function in feed-forward layer.\n",
    "    'layer_norm_eps': 1e-12 ,           # (float) A value added to the denominator for numerical stability.\n",
    "    'initializer_range': 0.02 ,         # (float) The standard deviation for normal initialization.\n",
    "    'mask_ratio': 0.2 ,                 # (float) The probability for a item replaced by MASK token.\n",
    "    'loss_type': 'CE' ,                # (str) The type of loss function.\n",
    "    'ft_ratio': 0.5   ,               # (float) The probability of generating fine-tuning samples\n",
    "    'neg_sampling': None,\n",
    "    'epochs': 30,\n",
    "    'eval_args': {\n",
    "        'split': {'LS': 'test_only'},\n",
    "        'group_by': 'user',\n",
    "        'order': 'TO',\n",
    "        'mode': 'uni100'\n",
    "    }\n",
    "}\n",
    "\n",
    "\n",
    "\n",
    "\n",
    "\n",
    "\n",
    "config = Config(model= 'BERT4Rec', dataset='recbox_data', config_dict=parameter_dict)\n",
    "\n",
    "# init random seed\n",
    "init_seed(config['seed'], config['reproducibility'])\n",
    "\n",
    "init_logger(config)\n",
    "logger = getLogger()\n",
    "# Create handlers\n",
    "c_handler = logging.StreamHandler()\n",
    "c_handler.setLevel(logging.INFO)\n",
    "logger.addHandler(c_handler)\n"
   ]
  },
  {
   "cell_type": "code",
   "execution_count": null,
   "id": "a2df1651",
   "metadata": {},
   "outputs": [],
   "source": [
    "dataset = create_dataset(config )\n",
    "logger.info(dataset)"
   ]
  },
  {
   "cell_type": "code",
   "execution_count": null,
   "id": "c67ece55",
   "metadata": {},
   "outputs": [],
   "source": [
    "train_data, valid_data, test_data = data_preparation(config, dataset)"
   ]
  },
  {
   "cell_type": "code",
   "execution_count": null,
   "id": "adf43701",
   "metadata": {},
   "outputs": [],
   "source": [
    "# model loading and initialization\n",
    "model = BERT4Rec(config, train_data.dataset).to(config['device'])\n",
    "logger.info(model)\n",
    "\n",
    "# trainer loading and initialization\n",
    "trainer = Trainer(config, model)\n",
    "\n",
    "# model training\n",
    "best_valid_score, best_valid_result = trainer.fit(train_data)"
   ]
  },
  {
   "cell_type": "code",
   "execution_count": null,
   "id": "7de5a27a",
   "metadata": {},
   "outputs": [],
   "source": [
    "model.eval()"
   ]
  },
  {
   "cell_type": "code",
   "execution_count": null,
   "id": "74560f93",
   "metadata": {},
   "outputs": [],
   "source": [
    "test_result = trainer.evaluate(test_data)\n",
    "test_result"
   ]
  },
  {
   "cell_type": "code",
   "execution_count": null,
   "id": "9ee97c97",
   "metadata": {},
   "outputs": [],
   "source": []
  },
  {
   "cell_type": "code",
   "execution_count": null,
   "id": "d614bf83",
   "metadata": {
    "scrolled": true
   },
   "outputs": [],
   "source": [
    "parameter_dict = [r'C:\\Users\\Abdo\\Desktop\\bert4rec.yaml']\n",
    "run_recbole(model= 'BERT4Rec' , dataset = 'recbox_data', config_file_list= parameter_dict)"
   ]
  },
  {
   "cell_type": "code",
   "execution_count": null,
   "id": "1b478197",
   "metadata": {},
   "outputs": [],
   "source": []
  },
  {
   "cell_type": "code",
   "execution_count": null,
   "id": "f7288fc1",
   "metadata": {},
   "outputs": [],
   "source": []
  },
  {
   "cell_type": "code",
   "execution_count": null,
   "id": "7df3d416",
   "metadata": {},
   "outputs": [],
   "source": []
  },
  {
   "cell_type": "code",
   "execution_count": null,
   "id": "550fb997",
   "metadata": {},
   "outputs": [],
   "source": [
    "last_item_ids = df[df['userID'] == 'AVU1ILDDYW301'].tail(10).itemID.values\n",
    "df[df['userID'] == 'AVU1ILDDYW301'].tail(10)"
   ]
  },
  {
   "cell_type": "code",
   "execution_count": null,
   "id": "c8269574",
   "metadata": {},
   "outputs": [],
   "source": [
    "last_item_ids"
   ]
  },
  {
   "cell_type": "code",
   "execution_count": null,
   "id": "1a50a5cf",
   "metadata": {},
   "outputs": [],
   "source": [
    "v = test_data.dataset.token2id(test_data.dataset.uid_field,'AVU1ILDDYW301')\n",
    "v"
   ]
  },
  {
   "cell_type": "code",
   "execution_count": null,
   "id": "5add6ec6",
   "metadata": {},
   "outputs": [],
   "source": [
    "print(dataset.token2id(dataset.iid_field, last_item_ids))"
   ]
  },
  {
   "cell_type": "code",
   "execution_count": null,
   "id": "11793e09",
   "metadata": {},
   "outputs": [],
   "source": [
    "# extract features and labels from testset\n",
    "# itemID is the label\n",
    "# itemID_list is the features\n",
    "input_features = test_data.dataset[np.isin(test_data.dataset[test_data.dataset.uid_field].numpy(), [v])]\n",
    "input_features"
   ]
  },
  {
   "cell_type": "code",
   "execution_count": null,
   "id": "9cac8a80",
   "metadata": {},
   "outputs": [],
   "source": [
    "print(\"test label: \" + str(input_features['itemID']))\n",
    "print(\"last 10 items from origin dataset: \" + str(dataset.token2id(dataset.iid_field, last_item_ids)))"
   ]
  },
  {
   "cell_type": "code",
   "execution_count": null,
   "id": "8cc8a3b2",
   "metadata": {},
   "outputs": [],
   "source": [
    "# 37 label we want to predict\n",
    "# every label we take before him 50 feature in order to predict it\n",
    "#50 is fixed and if there is not enough data he will pad zeros\n",
    "\n",
    "# For 1st row, it uses all items in training as input features.\n",
    "# For 2nd row, it uses all items in training + first label as input features\n",
    "# For 3rd row, it uses all items in training + first label + second label as input features\n",
    "# ...\n",
    "# For last row, it uses all items except last item as input features.\n",
    "\n",
    "\n",
    "input_features['itemID_list']"
   ]
  },
  {
   "cell_type": "markdown",
   "id": "785c7839",
   "metadata": {},
   "source": [
    "# make dummy"
   ]
  },
  {
   "cell_type": "code",
   "execution_count": null,
   "id": "ce8f0cdb",
   "metadata": {},
   "outputs": [],
   "source": [
    "#arr1 = model.ITEM_ID\n",
    "#arr2 = np.array(model.item_embedding)\n",
    "\n",
    "#dff3 = pd.DataFrame(arr, columns = ['itid:token','item_emb:float_seq'])\n",
    "\n",
    "#dff3.to_csv(r'C:\\Users\\Abdo\\Desktop\\recbox_data\\recbox_data.itememb', index=False, sep='\\t')\n",
    "\n",
    "#trainer = Trainer(config, dataset)\n",
    "#trainer.fit(dataset)"
   ]
  },
  {
   "cell_type": "code",
   "execution_count": null,
   "id": "0fcafbb2",
   "metadata": {},
   "outputs": [],
   "source": [
    "model.item_embedding"
   ]
  },
  {
   "cell_type": "code",
   "execution_count": null,
   "id": "f9976a34",
   "metadata": {},
   "outputs": [],
   "source": [
    "config, model, dataset, train_data, valid_data, test_data = load_data_and_model(model_file=r'C:\\Users\\Abdo\\Desktop\\recbox_data\\saved\\BERT4Rec-Mar-01-2023_02-42-35.pth',)"
   ]
  },
  {
   "cell_type": "code",
   "execution_count": null,
   "id": "9b5b663c",
   "metadata": {},
   "outputs": [],
   "source": [
    "input_features['itemID_list'].shape"
   ]
  },
  {
   "cell_type": "code",
   "execution_count": null,
   "id": "cf619e89",
   "metadata": {},
   "outputs": [],
   "source": [
    "index = np.isin(dataset[dataset.uid_field].numpy(), [v])\n",
    "input_interaction = dataset[index]\n",
    "input_interaction"
   ]
  },
  {
   "cell_type": "code",
   "execution_count": null,
   "id": "46d88971",
   "metadata": {},
   "outputs": [],
   "source": [
    "# from recbole.data.interaction import Interaction\n",
    "\n",
    "# def add_last_item(old_interaction, last_item_id, max_len=50):\n",
    "#     new_seq_items = old_interaction['itemID_list'][-1]\n",
    "#     if old_interaction['item_length'][-1].item() < max_len:\n",
    "#         new_seq_items[input_interaction['item_length'][-1].item()] = last_item_id\n",
    "#     else:\n",
    "#         new_seq_items = torch.roll(new_seq_items, -1)\n",
    "#         new_seq_items[-1] = last_item_id\n",
    "#     return new_seq_items.view(1, len(new_seq_items))\n",
    "\n",
    "# test = {\n",
    "#             'itemID_list': add_last_item(input_interaction, input_interaction['itemID'][-1].item(), model.max_seq_length),\n",
    "#             'item_length': torch.tensor(\n",
    "#                 [input_interaction['item_length'][-1].item() + 1\n",
    "#                  if input_interaction['item_length'][-1].item() < model.max_seq_length else model.max_seq_length])\n",
    "#         }\n",
    "# new_inter = Interaction(test)\n",
    "# new_inter"
   ]
  },
  {
   "cell_type": "code",
   "execution_count": null,
   "id": "8aa9b8d8",
   "metadata": {},
   "outputs": [],
   "source": [
    "# new_inter = new_inter.to(config['device'])\n",
    "# new_scores = model.full_sort_predict(new_inter)\n",
    "# new_scores = new_scores.view(-1, test_data.dataset.item_num)\n",
    "# new_scores[:, 0] = -np.inf  # set scores of [pad] to -inf"
   ]
  },
  {
   "cell_type": "code",
   "execution_count": null,
   "id": "4ed14cd2",
   "metadata": {},
   "outputs": [],
   "source": [
    "#input_interaction['itemID'][-1].item()"
   ]
  },
  {
   "cell_type": "code",
   "execution_count": null,
   "id": "5ea4bb10",
   "metadata": {},
   "outputs": [],
   "source": [
    "#new_seq_items[input_interaction['item_length'][-1].item()] "
   ]
  },
  {
   "cell_type": "code",
   "execution_count": null,
   "id": "c032141f",
   "metadata": {},
   "outputs": [],
   "source": [
    "#new_seq_items = input_interaction['itemID_list'][-1]\n",
    "#new_seq_items"
   ]
  },
  {
   "cell_type": "code",
   "execution_count": null,
   "id": "5d487dbf",
   "metadata": {},
   "outputs": [],
   "source": [
    "#new_seq_items = torch.roll(new_seq_items, -1)\n",
    "#new_seq_items"
   ]
  },
  {
   "cell_type": "code",
   "execution_count": null,
   "id": "f73393c6",
   "metadata": {},
   "outputs": [],
   "source": [
    "import torch\n",
    "from recbole.data.interaction import Interaction\n",
    "\n",
    "def add_last_item(old_interaction, last_item_id, max_len=50):\n",
    "    new_seq_items = old_interaction['itemID_list'][-1]\n",
    "    if old_interaction['item_length'][-1].item() < max_len:\n",
    "        new_seq_items[old_interaction['item_length'][-1].item()] = last_item_id\n",
    "    else:\n",
    "        new_seq_items = torch.roll(new_seq_items, -1)\n",
    "        new_seq_items[-1] = last_item_id\n",
    "    return new_seq_items.view(1, len(new_seq_items))\n",
    "\n",
    "def predict_for_all_item(external_user_id, dataset, model):\n",
    "    model.eval()\n",
    "    with torch.no_grad():\n",
    "        uid_series = dataset.token2id(dataset.uid_field, [external_user_id])\n",
    "        index = np.isin(dataset[dataset.uid_field].numpy(), uid_series)\n",
    "        input_interaction = dataset[index]\n",
    "        test = {\n",
    "            'itemID_list': add_last_item(input_interaction, \n",
    "                                          input_interaction['itemID'][-1].item(), model.max_seq_length),\n",
    "            'item_length': torch.tensor(\n",
    "                [input_interaction['item_length'][-1].item() + 1\n",
    "                 if input_interaction['item_length'][-1].item() < model.max_seq_length else model.max_seq_length])\n",
    "        }\n",
    "        new_inter = Interaction(test)\n",
    "        new_inter = new_inter.to(config['device'])\n",
    "        new_scores = model.full_sort_predict(new_inter)\n",
    "        new_scores = new_scores.view(-1, test_data.dataset.item_num)\n",
    "        new_scores[:, 0] = -np.inf  # set scores of [pad] to -inf\n",
    "    return torch.topk(new_scores, 10)"
   ]
  },
  {
   "cell_type": "code",
   "execution_count": null,
   "id": "18e1ecf9",
   "metadata": {},
   "outputs": [],
   "source": [
    "values , indices = predict_for_all_item('AVU1ILDDYW301', dataset, model) # we feed directly origin dataset, not train data or test data"
   ]
  },
  {
   "cell_type": "code",
   "execution_count": null,
   "id": "59010aae",
   "metadata": {},
   "outputs": [],
   "source": [
    "external_user_ids = dataset.id2token(\n",
    "    dataset.uid_field, list(range(dataset.user_num)))[1:]#fist element in array is 'PAD'(default of Recbole) ->remove it "
   ]
  },
  {
   "cell_type": "code",
   "execution_count": null,
   "id": "09cb12eb",
   "metadata": {},
   "outputs": [],
   "source": [
    "topk_items = defaultdict(list)\n",
    "for external_user_id in external_user_ids:\n",
    "    _, topk_iid_list = predict_for_all_item(external_user_id, dataset, model)\n",
    "    last_topk_iid_list = topk_iid_list[-1]\n",
    "    external_item_list = dataset.id2token(dataset.iid_field, last_topk_iid_list.cpu()).tolist()\n",
    "    topk_items[external_user_id].append(external_item_list)\n",
    "print(len(topk_items))"
   ]
  },
  {
   "cell_type": "code",
   "execution_count": null,
   "id": "edc70dbc",
   "metadata": {},
   "outputs": [],
   "source": [
    "topk_items['A1IU7S4HCK1XK0']"
   ]
  },
  {
   "cell_type": "code",
   "execution_count": null,
   "id": "b3a28f69",
   "metadata": {},
   "outputs": [],
   "source": []
  }
 ],
 "metadata": {
  "kernelspec": {
   "display_name": "Python 3 (ipykernel)",
   "language": "python",
   "name": "python3"
  },
  "language_info": {
   "codemirror_mode": {
    "name": "ipython",
    "version": 3
   },
   "file_extension": ".py",
   "mimetype": "text/x-python",
   "name": "python",
   "nbconvert_exporter": "python",
   "pygments_lexer": "ipython3",
   "version": "3.9.12"
  }
 },
 "nbformat": 4,
 "nbformat_minor": 5
}
